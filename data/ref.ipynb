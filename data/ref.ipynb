{
 "cells": [
  {
   "cell_type": "code",
   "execution_count": 1,
   "id": "1f5c2c9e",
   "metadata": {},
   "outputs": [],
   "source": [
    "ranges_female = {\n",
    "    'hip_angle_r': (153.04, 181.99),\n",
    "    'knee_angle_r': (107.08, 196.01),\n",
    "    'foot_strike_angle_r': (74.91, 123.11),\n",
    "    'hip_angle_l': (159.89, 180.30),\n",
    "    'knee_angle_l': (113.87, 192.30),\n",
    "    'foot_strike_angle_l': (74.55, 118.66),\n",
    "    'torso_angle': (0.32, 8.82)\n",
    "}\n",
    "ranges_male = {\n",
    "    'hip_angle_r': (151.69, 178.56),\n",
    "    'knee_angle_r': (84.90, 196.17),\n",
    "    'foot_strike_angle_r': (59.69, 126.69),\n",
    "    'hip_angle_l': (142.38, 182.66),\n",
    "    'knee_angle_l': (107.23, 186.00),\n",
    "    'foot_strike_angle_l': (55.25, 123.63),\n",
    "    'torso_angle': (-0.47, 5.34)\n",
    "}\n",
    "angle_cols = list(ranges_female.keys())\n"
   ]
  },
  {
   "cell_type": "code",
   "execution_count": 2,
   "id": "c1db0f82",
   "metadata": {},
   "outputs": [
    {
     "name": "stdout",
     "output_type": "stream",
     "text": [
      "Relabeled and saved as gait_angles_labeled.csv\n"
     ]
    }
   ],
   "source": [
    "import pandas as pd\n",
    "\n",
    "df = pd.read_csv(r'D:\\SEM 6\\gait\\data\\gait_angles_combined.csv')\n",
    "\n",
    "def is_correct(row):\n",
    "    ranges = ranges_female if row['gender'] == 'female' else ranges_male\n",
    "    for col in angle_cols:\n",
    "        if col not in row: continue\n",
    "        val = row[col]\n",
    "        lo, hi = ranges[col]\n",
    "        if not (lo <= val <= hi):\n",
    "            return 0\n",
    "    return 1\n",
    "\n",
    "df['label'] = df.apply(is_correct, axis=1)\n",
    "df.to_csv(r'D:\\SEM 6\\gait\\data\\gait_angles_labeled.csv', index=False)\n",
    "print('Relabeled and saved as gait_angles_labeled.csv')\n"
   ]
  },
  {
   "cell_type": "code",
   "execution_count": 3,
   "id": "ce3509f3",
   "metadata": {},
   "outputs": [
    {
     "name": "stdout",
     "output_type": "stream",
     "text": [
      "Saved feature-wise labeled dataset as gait_angles_featurelabels.csv\n"
     ]
    }
   ],
   "source": [
    "import pandas as pd\n",
    "\n",
    "# Reference ranges from your earlier calculation\n",
    "ranges_female = {\n",
    "    'hip_angle_r': (153.04, 181.99),\n",
    "    'knee_angle_r': (107.08, 196.01),\n",
    "    'foot_strike_angle_r': (74.91, 123.11),\n",
    "    'hip_angle_l': (159.89, 180.30),\n",
    "    'knee_angle_l': (113.87, 192.30),\n",
    "    'foot_strike_angle_l': (74.55, 118.66),\n",
    "    'torso_angle': (0.32, 8.82)\n",
    "}\n",
    "ranges_male = {\n",
    "    'hip_angle_r': (151.69, 178.56),\n",
    "    'knee_angle_r': (84.90, 196.17),\n",
    "    'foot_strike_angle_r': (59.69, 126.69),\n",
    "    'hip_angle_l': (142.38, 182.66),\n",
    "    'knee_angle_l': (107.23, 186.00),\n",
    "    'foot_strike_angle_l': (55.25, 123.63),\n",
    "    'torso_angle': (-0.47, 5.34)\n",
    "}\n",
    "angle_cols = list(ranges_female.keys())\n",
    "\n",
    "df = pd.read_csv(r'D:\\SEM 6\\gait\\data\\gait_angles_combined.csv')\n",
    "\n",
    "def label_features(row):\n",
    "    # Choose ref for gender\n",
    "    ranges = ranges_female if row['gender'] == 'female' else ranges_male\n",
    "    label_row = {}\n",
    "    for col in angle_cols:\n",
    "        if col in row and pd.notnull(row[col]):\n",
    "            lo, hi = ranges[col]\n",
    "            label_row[f\"{col}_status\"] = 1 if lo <= row[col] <= hi else 0\n",
    "        else:\n",
    "            label_row[f\"{col}_status\"] = 0   # Consider missing as incorrect\n",
    "    return pd.Series(label_row)\n",
    "\n",
    "# Apply to all rows\n",
    "feature_labels = df.apply(label_features, axis=1)\n",
    "df = pd.concat([df, feature_labels], axis=1)\n",
    "\n",
    "df.to_csv(r'D:\\SEM 6\\gait\\data\\gait_angles_featurelabels.csv', index=False)\n",
    "print(\"Saved feature-wise labeled dataset as gait_angles_featurelabels.csv\")\n"
   ]
  },
  {
   "cell_type": "code",
   "execution_count": null,
   "id": "0d470f8b",
   "metadata": {},
   "outputs": [],
   "source": []
  }
 ],
 "metadata": {
  "kernelspec": {
   "display_name": "Python 3",
   "language": "python",
   "name": "python3"
  },
  "language_info": {
   "codemirror_mode": {
    "name": "ipython",
    "version": 3
   },
   "file_extension": ".py",
   "mimetype": "text/x-python",
   "name": "python",
   "nbconvert_exporter": "python",
   "pygments_lexer": "ipython3",
   "version": "3.13.2"
  }
 },
 "nbformat": 4,
 "nbformat_minor": 5
}
